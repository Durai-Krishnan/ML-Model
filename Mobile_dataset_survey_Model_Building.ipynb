{
 "cells": [
  {
   "cell_type": "code",
   "execution_count": 2,
   "metadata": {},
   "outputs": [],
   "source": [
    "import pandas as pd\n",
    "from sklearn.preprocessing import MinMaxScaler,LabelEncoder,StandardScaler\n",
    "from scipy import stats\n",
    "import numpy as np\n",
    "import seaborn as sns\n",
    "from sklearn.model_selection import train_test_split\n",
    "from sklearn.tree import DecisionTreeClassifier,DecisionTreeRegressor\n",
    "from sklearn.ensemble import RandomForestClassifier\n",
    "from xgboost import XGBClassifier\n",
    "from sklearn.linear_model import LogisticRegression\n",
    "from sklearn.naive_bayes import GaussianNB\n",
    "from sklearn.metrics import accuracy_score,mean_squared_error,confusion_matrix,classification_report,r2_score,auc,roc_auc_score\n",
    "from scipy.stats import randint\n",
    "from sklearn.model_selection import RandomizedSearchCV\n",
    "import matplotlib.pyplot as plt\n",
    "from sklearn.svm import SVC\n",
    "import warnings"
   ]
  },
  {
   "cell_type": "code",
   "execution_count": 3,
   "metadata": {},
   "outputs": [],
   "source": [
    "data_df = pd.read_csv('mobile_survey.csv')"
   ]
  },
  {
   "cell_type": "code",
   "execution_count": 4,
   "metadata": {},
   "outputs": [
    {
     "data": {
      "text/plain": [
       "Index(['Name', 'Sex', 'Mobile_Brand', 'Mobile_Since(mon/year)',\n",
       "       'Liked_feature', 'New_mobile(mon/year)', 'Mode_of_Purchase',\n",
       "       'Reason_for_current_mobile', 'Old_mobile_brand',\n",
       "       'Accessories_purchased', 'Brand_suggestion_to_others',\n",
       "       'Purchasing_same_brand_in_Future', 'Old_mobile_exchanged',\n",
       "       'Reason_for_change', 'New_mobile', 'Mobile_Since', 'Age_Range'],\n",
       "      dtype='object')"
      ]
     },
     "execution_count": 4,
     "metadata": {},
     "output_type": "execute_result"
    }
   ],
   "source": [
    "data_df.select_dtypes(include=['object']).columns"
   ]
  },
  {
   "cell_type": "code",
   "execution_count": 5,
   "metadata": {},
   "outputs": [],
   "source": [
    "data_df.drop(['Name','Reason_for_change', 'New_mobile', 'Mobile_Since', 'Age_Range','Mobile_Since(mon/year)',\n",
    "       'New_mobile(mon/year)'],axis=1,inplace=True)"
   ]
  },
  {
   "cell_type": "code",
   "execution_count": 6,
   "metadata": {},
   "outputs": [],
   "source": [
    "obj_col=['Mobile_Brand',  'Liked_feature', 'Mode_of_Purchase',\n",
    "       'Reason_for_current_mobile', 'Old_mobile_brand','Accessories_purchased','Brand_suggestion_to_others',\n",
    "       'Purchasing_same_brand_in_Future', 'Old_mobile_exchanged']"
   ]
  },
  {
   "cell_type": "code",
   "execution_count": 7,
   "metadata": {},
   "outputs": [],
   "source": [
    "data_df=pd.get_dummies(data=data_df,columns=obj_col)"
   ]
  },
  {
   "cell_type": "code",
   "execution_count": 8,
   "metadata": {},
   "outputs": [
    {
     "data": {
      "text/plain": [
       "(47, 90)"
      ]
     },
     "execution_count": 8,
     "metadata": {},
     "output_type": "execute_result"
    }
   ],
   "source": [
    "data_df.shape"
   ]
  },
  {
   "cell_type": "code",
   "execution_count": 9,
   "metadata": {},
   "outputs": [
    {
     "data": {
      "text/html": [
       "<div>\n",
       "<style scoped>\n",
       "    .dataframe tbody tr th:only-of-type {\n",
       "        vertical-align: middle;\n",
       "    }\n",
       "\n",
       "    .dataframe tbody tr th {\n",
       "        vertical-align: top;\n",
       "    }\n",
       "\n",
       "    .dataframe thead th {\n",
       "        text-align: right;\n",
       "    }\n",
       "</style>\n",
       "<table border=\"1\" class=\"dataframe\">\n",
       "  <thead>\n",
       "    <tr style=\"text-align: right;\">\n",
       "      <th></th>\n",
       "      <th>Age</th>\n",
       "      <th>Sex</th>\n",
       "      <th>Rating</th>\n",
       "      <th>Mobile_price</th>\n",
       "      <th>Mobile_Brand_apple</th>\n",
       "      <th>Mobile_Brand_asus</th>\n",
       "      <th>Mobile_Brand_honor</th>\n",
       "      <th>Mobile_Brand_htc</th>\n",
       "      <th>Mobile_Brand_huawei</th>\n",
       "      <th>Mobile_Brand_lenovo</th>\n",
       "      <th>...</th>\n",
       "      <th>Accessories_purchased_powerbank</th>\n",
       "      <th>Accessories_purchased_screen guard</th>\n",
       "      <th>Accessories_purchased_tempered glass</th>\n",
       "      <th>Accessories_purchased_wireless headphones</th>\n",
       "      <th>Brand_suggestion_to_others_no</th>\n",
       "      <th>Brand_suggestion_to_others_yes</th>\n",
       "      <th>Purchasing_same_brand_in_Future_no</th>\n",
       "      <th>Purchasing_same_brand_in_Future_yes</th>\n",
       "      <th>Old_mobile_exchanged_no</th>\n",
       "      <th>Old_mobile_exchanged_yes</th>\n",
       "    </tr>\n",
       "  </thead>\n",
       "  <tbody>\n",
       "    <tr>\n",
       "      <th>0</th>\n",
       "      <td>21</td>\n",
       "      <td>male</td>\n",
       "      <td>3.5</td>\n",
       "      <td>12000</td>\n",
       "      <td>0</td>\n",
       "      <td>0</td>\n",
       "      <td>0</td>\n",
       "      <td>0</td>\n",
       "      <td>0</td>\n",
       "      <td>1</td>\n",
       "      <td>...</td>\n",
       "      <td>0</td>\n",
       "      <td>0</td>\n",
       "      <td>1</td>\n",
       "      <td>0</td>\n",
       "      <td>1</td>\n",
       "      <td>0</td>\n",
       "      <td>1</td>\n",
       "      <td>0</td>\n",
       "      <td>0</td>\n",
       "      <td>1</td>\n",
       "    </tr>\n",
       "    <tr>\n",
       "      <th>1</th>\n",
       "      <td>25</td>\n",
       "      <td>male</td>\n",
       "      <td>3.5</td>\n",
       "      <td>81000</td>\n",
       "      <td>1</td>\n",
       "      <td>0</td>\n",
       "      <td>0</td>\n",
       "      <td>0</td>\n",
       "      <td>0</td>\n",
       "      <td>0</td>\n",
       "      <td>...</td>\n",
       "      <td>0</td>\n",
       "      <td>0</td>\n",
       "      <td>1</td>\n",
       "      <td>0</td>\n",
       "      <td>1</td>\n",
       "      <td>0</td>\n",
       "      <td>1</td>\n",
       "      <td>0</td>\n",
       "      <td>0</td>\n",
       "      <td>1</td>\n",
       "    </tr>\n",
       "    <tr>\n",
       "      <th>2</th>\n",
       "      <td>22</td>\n",
       "      <td>male</td>\n",
       "      <td>4.0</td>\n",
       "      <td>11000</td>\n",
       "      <td>0</td>\n",
       "      <td>0</td>\n",
       "      <td>0</td>\n",
       "      <td>0</td>\n",
       "      <td>0</td>\n",
       "      <td>0</td>\n",
       "      <td>...</td>\n",
       "      <td>0</td>\n",
       "      <td>0</td>\n",
       "      <td>1</td>\n",
       "      <td>0</td>\n",
       "      <td>1</td>\n",
       "      <td>0</td>\n",
       "      <td>0</td>\n",
       "      <td>1</td>\n",
       "      <td>1</td>\n",
       "      <td>0</td>\n",
       "    </tr>\n",
       "    <tr>\n",
       "      <th>3</th>\n",
       "      <td>28</td>\n",
       "      <td>male</td>\n",
       "      <td>4.0</td>\n",
       "      <td>15000</td>\n",
       "      <td>0</td>\n",
       "      <td>0</td>\n",
       "      <td>0</td>\n",
       "      <td>0</td>\n",
       "      <td>0</td>\n",
       "      <td>0</td>\n",
       "      <td>...</td>\n",
       "      <td>0</td>\n",
       "      <td>0</td>\n",
       "      <td>1</td>\n",
       "      <td>0</td>\n",
       "      <td>0</td>\n",
       "      <td>1</td>\n",
       "      <td>0</td>\n",
       "      <td>1</td>\n",
       "      <td>1</td>\n",
       "      <td>0</td>\n",
       "    </tr>\n",
       "    <tr>\n",
       "      <th>4</th>\n",
       "      <td>27</td>\n",
       "      <td>male</td>\n",
       "      <td>4.0</td>\n",
       "      <td>15000</td>\n",
       "      <td>0</td>\n",
       "      <td>0</td>\n",
       "      <td>0</td>\n",
       "      <td>0</td>\n",
       "      <td>0</td>\n",
       "      <td>0</td>\n",
       "      <td>...</td>\n",
       "      <td>0</td>\n",
       "      <td>0</td>\n",
       "      <td>1</td>\n",
       "      <td>0</td>\n",
       "      <td>1</td>\n",
       "      <td>0</td>\n",
       "      <td>1</td>\n",
       "      <td>0</td>\n",
       "      <td>1</td>\n",
       "      <td>0</td>\n",
       "    </tr>\n",
       "  </tbody>\n",
       "</table>\n",
       "<p>5 rows × 90 columns</p>\n",
       "</div>"
      ],
      "text/plain": [
       "   Age   Sex  Rating  Mobile_price  Mobile_Brand_apple  Mobile_Brand_asus  \\\n",
       "0   21  male     3.5         12000                   0                  0   \n",
       "1   25  male     3.5         81000                   1                  0   \n",
       "2   22  male     4.0         11000                   0                  0   \n",
       "3   28  male     4.0         15000                   0                  0   \n",
       "4   27  male     4.0         15000                   0                  0   \n",
       "\n",
       "   Mobile_Brand_honor  Mobile_Brand_htc  Mobile_Brand_huawei  \\\n",
       "0                   0                 0                    0   \n",
       "1                   0                 0                    0   \n",
       "2                   0                 0                    0   \n",
       "3                   0                 0                    0   \n",
       "4                   0                 0                    0   \n",
       "\n",
       "   Mobile_Brand_lenovo  ...  Accessories_purchased_powerbank  \\\n",
       "0                    1  ...                                0   \n",
       "1                    0  ...                                0   \n",
       "2                    0  ...                                0   \n",
       "3                    0  ...                                0   \n",
       "4                    0  ...                                0   \n",
       "\n",
       "   Accessories_purchased_screen guard  Accessories_purchased_tempered glass  \\\n",
       "0                                   0                                     1   \n",
       "1                                   0                                     1   \n",
       "2                                   0                                     1   \n",
       "3                                   0                                     1   \n",
       "4                                   0                                     1   \n",
       "\n",
       "   Accessories_purchased_wireless headphones  Brand_suggestion_to_others_no  \\\n",
       "0                                          0                              1   \n",
       "1                                          0                              1   \n",
       "2                                          0                              1   \n",
       "3                                          0                              0   \n",
       "4                                          0                              1   \n",
       "\n",
       "   Brand_suggestion_to_others_yes  Purchasing_same_brand_in_Future_no  \\\n",
       "0                               0                                   1   \n",
       "1                               0                                   1   \n",
       "2                               0                                   0   \n",
       "3                               1                                   0   \n",
       "4                               0                                   1   \n",
       "\n",
       "   Purchasing_same_brand_in_Future_yes  Old_mobile_exchanged_no  \\\n",
       "0                                    0                        0   \n",
       "1                                    0                        0   \n",
       "2                                    1                        1   \n",
       "3                                    1                        1   \n",
       "4                                    0                        1   \n",
       "\n",
       "   Old_mobile_exchanged_yes  \n",
       "0                         1  \n",
       "1                         1  \n",
       "2                         0  \n",
       "3                         0  \n",
       "4                         0  \n",
       "\n",
       "[5 rows x 90 columns]"
      ]
     },
     "execution_count": 9,
     "metadata": {},
     "output_type": "execute_result"
    }
   ],
   "source": [
    "data_df.head()"
   ]
  },
  {
   "cell_type": "code",
   "execution_count": 10,
   "metadata": {},
   "outputs": [],
   "source": [
    "#MinMaxScaler\n",
    "xmms=data_df[\"Mobile_price\"].values.reshape(-1,1)\n",
    "mms = MinMaxScaler()\n",
    "X_scaler=mms.fit_transform(xmms)\n",
    "data_df[\"Mobile_price\"] = X_scaler\n",
    "warnings.filterwarnings(\"ignore\")"
   ]
  },
  {
   "cell_type": "code",
   "execution_count": 11,
   "metadata": {},
   "outputs": [
    {
     "data": {
      "text/plain": [
       "'xss=data_df[\"Mobile_price\"].values.reshape(-1,1)\\nss = StandardScaler()\\nS_scaler=ss.fit_transform(xss)\\ndata_df[\"Mobile_price\"] = S_scaler\\nwarnings.filterwarnings(\"ignore\")'"
      ]
     },
     "execution_count": 11,
     "metadata": {},
     "output_type": "execute_result"
    }
   ],
   "source": [
    "#StandardScaler\n",
    "'''xss=data_df[\"Mobile_price\"].values.reshape(-1,1)\n",
    "ss = StandardScaler()\n",
    "S_scaler=ss.fit_transform(xss)\n",
    "data_df[\"Mobile_price\"] = S_scaler\n",
    "warnings.filterwarnings(\"ignore\")'''"
   ]
  },
  {
   "cell_type": "code",
   "execution_count": 12,
   "metadata": {},
   "outputs": [
    {
     "name": "stdout",
     "output_type": "stream",
     "text": [
      "(array([1], dtype=int64),)\n",
      "[0.6902372  3.73180792 0.75432481 0.49797437 0.49797437 0.39925218\n",
      " 0.01472651 0.56206198 1.10421589 0.56206198 0.39925218 0.56206198\n",
      " 0.78636862 0.75432481 0.75432481 0.20698935 2.3859681  0.17753632\n",
      " 0.17753632 0.49797437 0.78377784 0.49797437 0.36979915 0.91454384\n",
      " 0.74150729 0.36979915 0.17753632 0.24162393 0.49797437 0.49797437\n",
      " 2.3859681  0.81841242 0.39925218 0.49797437 2.06553005 0.6902372\n",
      " 1.10421589 0.17753632 0.14290174 0.75432481 0.62614959 0.6902372\n",
      " 0.6902372  0.17753632 0.33516457 1.745092   0.49797437]\n"
     ]
    }
   ],
   "source": [
    "#Z_Score - To find outliers\n",
    "z=np.abs(stats.zscore(data_df[\"Mobile_price\"]))\n",
    "threshold=3\n",
    "print(np.where(z>3))\n",
    "print(z)"
   ]
  },
  {
   "cell_type": "code",
   "execution_count": 13,
   "metadata": {},
   "outputs": [
    {
     "data": {
      "text/plain": [
       "<matplotlib.axes._subplots.AxesSubplot at 0x121bc714710>"
      ]
     },
     "execution_count": 13,
     "metadata": {},
     "output_type": "execute_result"
    },
    {
     "data": {
      "image/png": "[encoded data removed]",
      "text/plain": [
       "<Figure size 432x288 with 1 Axes>"
      ]
     },
     "metadata": {
      "needs_background": "light"
     },
     "output_type": "display_data"
    }
   ],
   "source": [
    "#BoxPLot for visualizing outliers\n",
    "sns.boxplot(data_df[\"Mobile_price\"])"
   ]
  },
  {
   "cell_type": "code",
   "execution_count": 14,
   "metadata": {},
   "outputs": [],
   "source": [
    "#Removing Outliers - MinMaxScaler\n",
    "data_df = data_df[data_df[\"Mobile_price\"] < 0.3]"
   ]
  },
  {
   "cell_type": "code",
   "execution_count": 15,
   "metadata": {},
   "outputs": [],
   "source": [
    "#Removing Outliers - StandardScaler\n",
    "#data_df = data_df[data_df[\"Mobile_price\"] < 0.75]"
   ]
  },
  {
   "cell_type": "code",
   "execution_count": 16,
   "metadata": {},
   "outputs": [
    {
     "data": {
      "text/plain": [
       "0.9057745493474378"
      ]
     },
     "execution_count": 16,
     "metadata": {},
     "output_type": "execute_result"
    }
   ],
   "source": [
    "#Skewness - To check whether the attributes are normally distributed\n",
    "'''\n",
    "skewness = 0 : normally distributed.\n",
    "skewness > 0 : more weight in the left tail of the distribution.\n",
    "skewness < 0 : more weight in the right tail of the distribution\n",
    "'''\n",
    "data_df[\"Mobile_price\"].skew()"
   ]
  },
  {
   "cell_type": "code",
   "execution_count": 17,
   "metadata": {},
   "outputs": [],
   "source": [
    "#MinMaxScaler for another attribute\n",
    "rxmms=data_df[\"Rating\"].values.reshape(-1,1)\n",
    "mms = MinMaxScaler()\n",
    "X_scalerr=mms.fit_transform(rxmms)\n",
    "data_df[\"Rating\"] = X_scalerr"
   ]
  },
  {
   "cell_type": "code",
   "execution_count": 18,
   "metadata": {},
   "outputs": [
    {
     "data": {
      "text/plain": [
       "<matplotlib.axes._subplots.AxesSubplot at 0x121bc85a748>"
      ]
     },
     "execution_count": 18,
     "metadata": {},
     "output_type": "execute_result"
    },
    {
     "data": {
      "image/png": "[encoded data removed]",
      "text/plain": [
       "<Figure size 432x288 with 1 Axes>"
      ]
     },
     "metadata": {
      "needs_background": "light"
     },
     "output_type": "display_data"
    }
   ],
   "source": [
    "sns.kdeplot(data_df[\"Rating\"])"
   ]
  },
  {
   "cell_type": "code",
   "execution_count": 19,
   "metadata": {},
   "outputs": [
    {
     "data": {
      "text/plain": [
       "<matplotlib.axes._subplots.AxesSubplot at 0x121bcb45b00>"
      ]
     },
     "execution_count": 19,
     "metadata": {},
     "output_type": "execute_result"
    },
    {
     "data": {
      "image/png": "[encoded data removed]",
      "text/plain": [
       "<Figure size 432x288 with 1 Axes>"
      ]
     },
     "metadata": {
      "needs_background": "light"
     },
     "output_type": "display_data"
    }
   ],
   "source": [
    "sns.boxplot(data_df[\"Rating\"])"
   ]
  },
  {
   "cell_type": "code",
   "execution_count": 20,
   "metadata": {},
   "outputs": [],
   "source": [
    "#To remove outliers - MinMaxScaler\n",
    "data_df = data_df[data_df[\"Rating\"]>0.4]"
   ]
  },
  {
   "cell_type": "code",
   "execution_count": 21,
   "metadata": {},
   "outputs": [],
   "source": [
    "#Preparing DataSet for TrainTestSplit\n",
    "x = data_df.drop([\"Sex\"],axis=1)\n",
    "y=data_df[\"Sex\"]"
   ]
  },
  {
   "cell_type": "code",
   "execution_count": 22,
   "metadata": {},
   "outputs": [],
   "source": [
    "#TrainTestSplit\n",
    "x_train,x_test,y_train,y_test=train_test_split(x,y,test_size=0.2,random_state=100)"
   ]
  },
  {
   "cell_type": "code",
   "execution_count": 23,
   "metadata": {},
   "outputs": [
    {
     "data": {
      "text/plain": [
       "((30, 89), (8, 89), (30,), (8,))"
      ]
     },
     "execution_count": 23,
     "metadata": {},
     "output_type": "execute_result"
    }
   ],
   "source": [
    "#To Check Dimension\n",
    "x_train.shape,x_test.shape,y_train.shape,y_test.shape"
   ]
  },
  {
   "cell_type": "code",
   "execution_count": 28,
   "metadata": {},
   "outputs": [],
   "source": [
    "#HyperParameter Tuning - DecisionTree\n",
    "#To Find best parameter to train the dataset and to increase the accuracy\n",
    "'''param_dist = {\"max_depth\": [3, None],\n",
    "              \"max_features\": randint(1, 9),\n",
    "              \"min_samples_leaf\": randint(1, 9),\n",
    "              #\"min_saples_split\":randint(1,9),\n",
    "              \"criterion\": [\"gini\", \"entropy\"]}'''"
   ]
  },
  {
   "cell_type": "code",
   "execution_count": 60,
   "metadata": {},
   "outputs": [],
   "source": [
    "#Instantiating\n",
    "#random = RandomizedSearchCV(dc,param_distributions=param_dist,n_iter=20,cv=5)"
   ]
  },
  {
   "cell_type": "code",
   "execution_count": 61,
   "metadata": {},
   "outputs": [],
   "source": [
    "#Iterating the model with given parameter \n",
    "#random.fit(x_train,y_train)"
   ]
  },
  {
   "cell_type": "code",
   "execution_count": 62,
   "metadata": {},
   "outputs": [],
   "source": [
    "#TO get best estimator for Algorithm Used\n",
    "#random.best_estimator_"
   ]
  },
  {
   "cell_type": "code",
   "execution_count": 31,
   "metadata": {},
   "outputs": [
    {
     "data": {
      "text/plain": [
       "XGBClassifier(base_score=0.5, booster='gbtree', colsample_bylevel=1,\n",
       "              colsample_bynode=1, colsample_bytree=1, gamma=0,\n",
       "              learning_rate=0.1, max_delta_step=0, max_depth=3,\n",
       "              min_child_weight=1, missing=None, n_estimators=100, n_jobs=1,\n",
       "              nthread=None, objective='binary:logistic', random_state=0,\n",
       "              reg_alpha=0, reg_lambda=1, scale_pos_weight=1, seed=None,\n",
       "              silent=None, subsample=1, verbosity=1)"
      ]
     },
     "execution_count": 31,
     "metadata": {},
     "output_type": "execute_result"
    }
   ],
   "source": [
    "#XGBOOST\n",
    "xg = XGBClassifier()\n",
    "xg.fit(x_train,y_train)"
   ]
  },
  {
   "cell_type": "code",
   "execution_count": 32,
   "metadata": {},
   "outputs": [
    {
     "name": "stdout",
     "output_type": "stream",
     "text": [
      "0.625\n",
      "[[0 0]\n",
      " [3 5]]\n"
     ]
    }
   ],
   "source": [
    "y_pi=xg.predict(x_test)\n",
    "print(accuracy_score(y_pi,y_test))\n",
    "print(confusion_matrix(y_pi,y_test))"
   ]
  },
  {
   "cell_type": "code",
   "execution_count": 33,
   "metadata": {},
   "outputs": [
    {
     "data": {
      "text/plain": [
       "{'Mobile_Brand_samsung': 2.3318059886363645,\n",
       " 'Rating': 0.43152593364285713,\n",
       " 'Liked_feature_user friendly': 2.3371516239999997,\n",
       " 'Mobile_price': 0.32065592476576144,\n",
       " 'Age': 0.2859526286428572,\n",
       " 'Purchasing_same_brand_in_Future_no': 0.19614061346173917,\n",
       " 'Mobile_Brand_redmi': 0.04795189698333333,\n",
       " 'Liked_feature_camera': 0.7521117855555556,\n",
       " 'Reason_for_current_mobile_internet': 0.21663621508562494,\n",
       " 'Accessories_purchased_tempered glass': 0.12472213919999998,\n",
       " 'Brand_suggestion_to_others_no': 0.15421187366666667,\n",
       " 'Mode_of_Purchase_online': 0.185571432}"
      ]
     },
     "execution_count": 33,
     "metadata": {},
     "output_type": "execute_result"
    }
   ],
   "source": [
    "xg.get_booster().get_score(importance_type='gain')"
   ]
  },
  {
   "cell_type": "code",
   "execution_count": 66,
   "metadata": {},
   "outputs": [
    {
     "data": {
      "text/plain": [
       "DecisionTreeClassifier(class_weight=None, criterion='gini', max_depth=None,\n",
       "                       max_features=None, max_leaf_nodes=None,\n",
       "                       min_impurity_decrease=0.0, min_impurity_split=None,\n",
       "                       min_samples_leaf=1, min_samples_split=2,\n",
       "                       min_weight_fraction_leaf=0.0, presort=False,\n",
       "                       random_state=None, splitter='best')"
      ]
     },
     "execution_count": 66,
     "metadata": {},
     "output_type": "execute_result"
    }
   ],
   "source": [
    "#DecisionTree\n",
    "dc = DecisionTreeClassifier()\n",
    "dc.fit(x_train,y_train)"
   ]
  },
  {
   "cell_type": "code",
   "execution_count": 67,
   "metadata": {},
   "outputs": [],
   "source": [
    "y_pred=dc.predict(x_test)"
   ]
  },
  {
   "cell_type": "code",
   "execution_count": 65,
   "metadata": {},
   "outputs": [
    {
     "data": {
      "text/plain": [
       "0       male\n",
       "23      male\n",
       "46    female\n",
       "35    female\n",
       "31      male\n",
       "9       male\n",
       "10      male\n",
       "40    female\n",
       "Name: Sex, dtype: object"
      ]
     },
     "execution_count": 65,
     "metadata": {},
     "output_type": "execute_result"
    }
   ],
   "source": [
    "y_test"
   ]
  },
  {
   "cell_type": "code",
   "execution_count": 68,
   "metadata": {},
   "outputs": [
    {
     "data": {
      "text/plain": [
       "array(['male', 'male', 'male', 'male', 'male', 'male', 'female', 'male'],\n",
       "      dtype=object)"
      ]
     },
     "execution_count": 68,
     "metadata": {},
     "output_type": "execute_result"
    }
   ],
   "source": [
    "y_pred"
   ]
  },
  {
   "cell_type": "code",
   "execution_count": 37,
   "metadata": {},
   "outputs": [
    {
     "name": "stdout",
     "output_type": "stream",
     "text": [
      "0.625\n",
      "              precision    recall  f1-score   support\n",
      "\n",
      "      female       0.00      0.00      0.00         0\n",
      "        male       1.00      0.62      0.77         8\n",
      "\n",
      "    accuracy                           0.62         8\n",
      "   macro avg       0.50      0.31      0.38         8\n",
      "weighted avg       1.00      0.62      0.77         8\n",
      "\n",
      "[[0 0]\n",
      " [3 5]]\n"
     ]
    }
   ],
   "source": [
    "#Metric Evaluation for Classification Problem\n",
    "print(accuracy_score(y_pred,y_test))\n",
    "print(classification_report(y_pred,y_test))\n",
    "print(confusion_matrix(y_pred,y_test))"
   ]
  },
  {
   "cell_type": "code",
   "execution_count": 70,
   "metadata": {},
   "outputs": [],
   "source": [
    "#LabelEncoder - If using Logistic Regression\n",
    "le = LabelEncoder()\n",
    "xer = le.fit_transform(data_df[\"Sex\"])\n",
    "data_df[\"Sex\"]=xer"
   ]
  },
  {
   "cell_type": "code",
   "execution_count": 71,
   "metadata": {},
   "outputs": [
    {
     "data": {
      "text/plain": [
       "array([1, 0], dtype=int64)"
      ]
     },
     "execution_count": 71,
     "metadata": {},
     "output_type": "execute_result"
    }
   ],
   "source": [
    "data_df.Sex.unique()"
   ]
  },
  {
   "cell_type": "code",
   "execution_count": 72,
   "metadata": {},
   "outputs": [
    {
     "data": {
      "text/plain": [
       "LogisticRegression(C=1.0, class_weight=None, dual=False, fit_intercept=True,\n",
       "                   intercept_scaling=1, l1_ratio=None, max_iter=100,\n",
       "                   multi_class='warn', n_jobs=None, penalty='l2',\n",
       "                   random_state=None, solver='warn', tol=0.0001, verbose=0,\n",
       "                   warm_start=False)"
      ]
     },
     "execution_count": 72,
     "metadata": {},
     "output_type": "execute_result"
    }
   ],
   "source": [
    "#LogisticRegression\n",
    "Lr = LogisticRegression()\n",
    "Lr.fit(x_train,y_train)"
   ]
  },
  {
   "cell_type": "code",
   "execution_count": 74,
   "metadata": {},
   "outputs": [],
   "source": [
    "Y_PRED = Lr.predict(x_test)"
   ]
  },
  {
   "cell_type": "code",
   "execution_count": 76,
   "metadata": {},
   "outputs": [
    {
     "name": "stdout",
     "output_type": "stream",
     "text": [
      "['male' 'male' 'male' 'male' 'male' 'male' 'male' 'male']\n"
     ]
    }
   ],
   "source": [
    "#For Our Understanding, use inverse_transform to read \n",
    "print(Y_PRED)\n",
    "#print(le.inverse_transform(Y_PRED))"
   ]
  },
  {
   "cell_type": "code",
   "execution_count": 64,
   "metadata": {},
   "outputs": [
    {
     "data": {
      "text/plain": [
       "GaussianNB(priors=None, var_smoothing=1e-09)"
      ]
     },
     "execution_count": 64,
     "metadata": {},
     "output_type": "execute_result"
    }
   ],
   "source": [
    "#NaiveBayes\n",
    "gnb = GaussianNB()\n",
    "gnb.fit(x_train,y_train)"
   ]
  },
  {
   "cell_type": "code",
   "execution_count": 49,
   "metadata": {},
   "outputs": [],
   "source": [
    "y_p = gnb.predict(x_test)"
   ]
  },
  {
   "cell_type": "code",
   "execution_count": null,
   "metadata": {},
   "outputs": [],
   "source": [
    "y_p"
   ]
  },
  {
   "cell_type": "code",
   "execution_count": 50,
   "metadata": {},
   "outputs": [
    {
     "data": {
      "text/plain": [
       "0.75"
      ]
     },
     "execution_count": 50,
     "metadata": {},
     "output_type": "execute_result"
    }
   ],
   "source": [
    "accuracy_score(y_p,y_test)"
   ]
  },
  {
   "cell_type": "code",
   "execution_count": 51,
   "metadata": {},
   "outputs": [
    {
     "data": {
      "text/plain": [
       "SVC(C=1.0, cache_size=200, class_weight=None, coef0=0.0,\n",
       "    decision_function_shape='ovr', degree=3, gamma='auto_deprecated',\n",
       "    kernel='rbf', max_iter=-1, probability=False, random_state=None,\n",
       "    shrinking=True, tol=0.001, verbose=False)"
      ]
     },
     "execution_count": 51,
     "metadata": {},
     "output_type": "execute_result"
    }
   ],
   "source": [
    "#SupportVectorMachine\n",
    "svc = SVC()\n",
    "svc.fit(x_train,y_train)"
   ]
  },
  {
   "cell_type": "code",
   "execution_count": 52,
   "metadata": {},
   "outputs": [
    {
     "data": {
      "text/plain": [
       "0.625"
      ]
     },
     "execution_count": 52,
     "metadata": {},
     "output_type": "execute_result"
    }
   ],
   "source": [
    "accuracy_score(svc.predict(x_test),y_test)"
   ]
  }
 ],
 "metadata": {
  "kernelspec": {
   "display_name": "Python 3",
   "language": "python",
   "name": "python3"
  },
  "language_info": {
   "codemirror_mode": {
    "name": "ipython",
    "version": 3
   },
   "file_extension": ".py",
   "mimetype": "text/x-python",
   "name": "python",
   "nbconvert_exporter": "python",
   "pygments_lexer": "ipython3",
   "version": "3.7.3"
  }
 },
 "nbformat": 4,
 "nbformat_minor": 2
}
